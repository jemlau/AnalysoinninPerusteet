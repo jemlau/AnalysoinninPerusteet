{
 "cells": [
  {
   "cell_type": "code",
   "execution_count": 13,
   "metadata": {},
   "outputs": [
    {
     "name": "stdout",
     "output_type": "stream",
     "text": [
      "Guess a name: \n",
      "Guess a name: \n",
      "Congratulations! You guessed 3 times!\n"
     ]
    }
   ],
   "source": [
    "name = \"Marko\"\n",
    "guesscount = 0\n",
    "\n",
    "while True:\n",
    "    guess = input(\"Guess a name: \")\n",
    "    guesscount += 1\n",
    "    \n",
    "    \n",
    "    if guess == name:\n",
    "        print(\"Congratulations! You guessed \" + str(guesscount) + \" times!\")\n",
    "        break\n",
    "    else:\n",
    "        print(\"Guess a name: \")\n",
    "\n",
    "\n"
   ]
  }
 ],
 "metadata": {
  "kernelspec": {
   "display_name": "Python 3",
   "language": "python",
   "name": "python3"
  },
  "language_info": {
   "codemirror_mode": {
    "name": "ipython",
    "version": 3
   },
   "file_extension": ".py",
   "mimetype": "text/x-python",
   "name": "python",
   "nbconvert_exporter": "python",
   "pygments_lexer": "ipython3",
   "version": "3.12.0"
  }
 },
 "nbformat": 4,
 "nbformat_minor": 2
}
