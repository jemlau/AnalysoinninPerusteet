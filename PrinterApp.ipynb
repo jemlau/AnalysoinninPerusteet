{
 "cells": [
  {
   "cell_type": "code",
   "execution_count": 1,
   "metadata": {},
   "outputs": [
    {
     "name": "stdout",
     "output_type": "stream",
     "text": [
      "Printer App\n",
      "This app is made by: Jemina Laukkanen\n",
      "6\n",
      "The value of of number1 is 6\n",
      "The value of number2 is 12\n",
      "6 * 12 = 72\n",
      "6 + 12 = 18\n",
      "6 / 12 = 0.5\n",
      "6 - 12 = -6\n"
     ]
    }
   ],
   "source": [
    "creator = \"Jemina Laukkanen\" \n",
    "number1 = 6\n",
    "number2 = 12\n",
    "multiplication = number1 * number2\n",
    "addition = number1 + number2\n",
    "division = number1 / number2\n",
    "substraction = number1 - number2\n",
    "\n",
    "\n",
    "print(\"Printer App\")\n",
    "print (\"This app is made by: \" + creator)\n",
    "\n",
    "print(number1)\n",
    "print(\"The value of of number1 is \" + str(number1))\n",
    "print(\"The value of number2 is \" + str(number2))\n",
    "\n",
    "\n",
    "print(str(number1) + \" * \" + str(number2) + \" = \" + str(multiplication))\n",
    "\n",
    "\n",
    "\n",
    "print(str(number1) + \" + \" + str(number2) + \" = \" + str(addition))\n",
    "\n",
    "\n",
    "\n",
    "print(str(number1) + \" / \" + str(number2) + \" = \" + str(division))\n",
    "\n",
    "\n",
    "\n",
    "print(str(number1) + \" - \" + str(number2) + \" = \" + str(substraction))\n",
    "\n",
    "\n",
    "\n",
    "\n",
    "\n",
    "\n",
    "\n",
    "\n",
    "\n"
   ]
  }
 ],
 "metadata": {
  "kernelspec": {
   "display_name": "Python 3",
   "language": "python",
   "name": "python3"
  },
  "language_info": {
   "codemirror_mode": {
    "name": "ipython",
    "version": 3
   },
   "file_extension": ".py",
   "mimetype": "text/x-python",
   "name": "python",
   "nbconvert_exporter": "python",
   "pygments_lexer": "ipython3",
   "version": "3.12.0"
  }
 },
 "nbformat": 4,
 "nbformat_minor": 2
}
