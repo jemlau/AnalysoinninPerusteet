{
 "cells": [
  {
   "cell_type": "code",
   "execution_count": 27,
   "metadata": {},
   "outputs": [
    {
     "name": "stdout",
     "output_type": "stream",
     "text": [
      "[84, 44, 41, 57, 66]\n",
      "292\n",
      "84\n"
     ]
    }
   ],
   "source": [
    "from random import randint\n",
    "\n",
    "thrownDiceNumbers = [randint(0, 100) for i in range(5)]\n",
    "print(thrownDiceNumbers)\n",
    "\n",
    "total = sum(thrownDiceNumbers)\n",
    "print (total)\n",
    "\n",
    "maxvalue = max(thrownDiceNumbers)\n",
    "\n",
    "print (maxvalue)\n",
    "\n",
    "\n",
    "\n",
    "\n",
    "\n",
    "\n",
    "\n",
    "\n"
   ]
  }
 ],
 "metadata": {
  "kernelspec": {
   "display_name": "Python 3",
   "language": "python",
   "name": "python3"
  },
  "language_info": {
   "codemirror_mode": {
    "name": "ipython",
    "version": 3
   },
   "file_extension": ".py",
   "mimetype": "text/x-python",
   "name": "python",
   "nbconvert_exporter": "python",
   "pygments_lexer": "ipython3",
   "version": "3.12.0"
  }
 },
 "nbformat": 4,
 "nbformat_minor": 2
}
