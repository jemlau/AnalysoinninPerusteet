{
 "cells": [
  {
   "cell_type": "code",
   "execution_count": 19,
   "metadata": {},
   "outputs": [
    {
     "name": "stdout",
     "output_type": "stream",
     "text": [
      "sofa\n",
      "chair\n",
      "table\n",
      "bed\n",
      "shelf\n",
      "['sofa', 'chair']\n",
      "sofa\n"
     ]
    }
   ],
   "source": [
    "\n",
    "furnitures = ['sofa', 'chair', 'table', 'bed', 'shelf']\n",
    "for furniture in furnitures:\n",
    "    print(furniture)\n",
    "\n",
    "print(furnitures[:2])\n",
    "\n",
    "for item in furnitures:\n",
    "    if item == 'sofa':\n",
    "        print (item)\n",
    "\n",
    "\n",
    "\n",
    "\n"
   ]
  }
 ],
 "metadata": {
  "kernelspec": {
   "display_name": "Python 3",
   "language": "python",
   "name": "python3"
  },
  "language_info": {
   "codemirror_mode": {
    "name": "ipython",
    "version": 3
   },
   "file_extension": ".py",
   "mimetype": "text/x-python",
   "name": "python",
   "nbconvert_exporter": "python",
   "pygments_lexer": "ipython3",
   "version": "3.12.0"
  }
 },
 "nbformat": 4,
 "nbformat_minor": 2
}
